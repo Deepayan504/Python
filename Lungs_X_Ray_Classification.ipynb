{
  "nbformat": 4,
  "nbformat_minor": 0,
  "metadata": {
    "colab": {
      "name": "19AI91R02_Coding_project_2.ipynb",
      "provenance": []
    },
    "kernelspec": {
      "name": "python3",
      "display_name": "Python 3"
    }
  },
  "cells": [
    {
      "cell_type": "code",
      "metadata": {
        "id": "Kj68MIJ67Uxj",
        "colab_type": "code",
        "colab": {}
      },
      "source": [
        "import numpy as np\n",
        "import zipfile\n",
        "\n",
        "import glob\n",
        "\n",
        "#Loading and Extracting the dataset \n",
        "\n",
        "z = zipfile.ZipFile('Source2.zip', \"r\")\n",
        "for name in z.namelist():\n",
        "    z.extract(name)\n",
        "\n",
        "data = [f for f in glob.glob(\"Source1/*\")]\n",
        "data.extend([f for f in glob.glob(\"Source2/*\")])\n",
        "data.extend([f for f in glob.glob(\"Source5/*\")])"
      ],
      "execution_count": 0,
      "outputs": []
    },
    {
      "cell_type": "code",
      "metadata": {
        "id": "iXGVP5MAFFg9",
        "colab_type": "code",
        "colab": {}
      },
      "source": [
        "import pandas as pd\n",
        "#Loading Training Label. Here I have used only ('Source-1','Source-2','Source-5') data\n",
        "\n",
        "label_train=pd.read_csv('Train_Combined.csv')\n",
        "label_test=pd.read_csv('Test_Combined.csv')\n",
        "temp=label_train.where(label_train['Data Source'].str.contains('|'.join(('Source-1','Source-2','Source-5'))))\n",
        "temp.reset_index(inplace=True,drop=True)\n",
        "temp.dropna(inplace=True)\n",
        "\n",
        "label_train=temp\n",
        "\n",
        "#Loading Testing Label. Here I have used only ('Source-1','Source-2','Source-5') data\n",
        "\n",
        "temp=label_test.where(label_test['Data Source'].str.contains('|'.join(('Source-1','Source-2','Source-5'))))\n",
        "temp.reset_index(inplace=True,drop=True)\n",
        "temp.dropna(inplace=True)\n",
        "label_test=temp"
      ],
      "execution_count": 0,
      "outputs": []
    },
    {
      "cell_type": "code",
      "metadata": {
        "id": "ORmMTVusMZLi",
        "colab_type": "code",
        "colab": {}
      },
      "source": [
        "#Upsampling the minority classes for handling class imbalance\n",
        "max=0\n",
        "for stri in ['Non-Pneumonia','Other Pneumonia','COVID-19']:\n",
        "  if label_train[stri].sum()>max:\n",
        "    max=label_train[stri].sum()\n",
        "\n",
        "for stri in ['Non-Pneumonia','Other Pneumonia','COVID-19']:\n",
        "  if label_train[stri].sum()<max:\n",
        "    temp=label_train.where(label_train[stri]==1.0)\n",
        "    temp.dropna(inplace=True)\n",
        "    idx=np.random.choice(temp.index,size=int(max-label_train[stri].sum()),replace=True)\n",
        "    label_train=label_train.append(label_train.loc[idx],ignore_index=True)\n",
        "\n"
      ],
      "execution_count": 0,
      "outputs": []
    },
    {
      "cell_type": "code",
      "metadata": {
        "id": "l6aNIQRJ8suT",
        "colab_type": "code",
        "colab": {}
      },
      "source": [
        "from torchvision import models\n",
        "train_on_gpu=0\n",
        "def get_pretrained_model(model_name):\n",
        " \n",
        "    if model_name == 'vgg16':\n",
        "        model = models.vgg16(pretrained=True)\n",
        "\n",
        "\n",
        "        for param in model.parameters():\n",
        "            param.requires_grad = False\n",
        "        n_inputs = model.classifier[6].in_features\n",
        "\n",
        "\n",
        "        model.classifier[6] = nn.Sequential(\n",
        "            nn.Linear(n_inputs, 256), nn.ReLU(), nn.Dropout(0.2),\n",
        "            nn.Linear(256, 3), nn.LogSoftmax(dim=1))\n",
        "\n",
        "\n",
        "\n",
        "    return model"
      ],
      "execution_count": 0,
      "outputs": []
    },
    {
      "cell_type": "code",
      "metadata": {
        "id": "eUMN85RH8NXE",
        "colab_type": "code",
        "outputId": "15b1ab79-f166-493a-c54a-c75c40bf078d",
        "colab": {
          "base_uri": "https://localhost:8080/",
          "height": 969
        }
      },
      "source": [
        "from torchsummary import summary\n",
        "import torch.nn as nn\n",
        "# Loading pretrained model 'vgg16'\n",
        "\n",
        "model = get_pretrained_model('vgg16')\n",
        "\n",
        "#calculating the model space and inference compute complexity\n",
        "\n",
        "summary(model, input_size=(3, 224, 224), batch_size=1)"
      ],
      "execution_count": 0,
      "outputs": [
        {
          "output_type": "stream",
          "text": [
            "----------------------------------------------------------------\n",
            "        Layer (type)               Output Shape         Param #\n",
            "================================================================\n",
            "            Conv2d-1          [1, 64, 224, 224]           1,792\n",
            "              ReLU-2          [1, 64, 224, 224]               0\n",
            "            Conv2d-3          [1, 64, 224, 224]          36,928\n",
            "              ReLU-4          [1, 64, 224, 224]               0\n",
            "         MaxPool2d-5          [1, 64, 112, 112]               0\n",
            "            Conv2d-6         [1, 128, 112, 112]          73,856\n",
            "              ReLU-7         [1, 128, 112, 112]               0\n",
            "            Conv2d-8         [1, 128, 112, 112]         147,584\n",
            "              ReLU-9         [1, 128, 112, 112]               0\n",
            "        MaxPool2d-10           [1, 128, 56, 56]               0\n",
            "           Conv2d-11           [1, 256, 56, 56]         295,168\n",
            "             ReLU-12           [1, 256, 56, 56]               0\n",
            "           Conv2d-13           [1, 256, 56, 56]         590,080\n",
            "             ReLU-14           [1, 256, 56, 56]               0\n",
            "           Conv2d-15           [1, 256, 56, 56]         590,080\n",
            "             ReLU-16           [1, 256, 56, 56]               0\n",
            "        MaxPool2d-17           [1, 256, 28, 28]               0\n",
            "           Conv2d-18           [1, 512, 28, 28]       1,180,160\n",
            "             ReLU-19           [1, 512, 28, 28]               0\n",
            "           Conv2d-20           [1, 512, 28, 28]       2,359,808\n",
            "             ReLU-21           [1, 512, 28, 28]               0\n",
            "           Conv2d-22           [1, 512, 28, 28]       2,359,808\n",
            "             ReLU-23           [1, 512, 28, 28]               0\n",
            "        MaxPool2d-24           [1, 512, 14, 14]               0\n",
            "           Conv2d-25           [1, 512, 14, 14]       2,359,808\n",
            "             ReLU-26           [1, 512, 14, 14]               0\n",
            "           Conv2d-27           [1, 512, 14, 14]       2,359,808\n",
            "             ReLU-28           [1, 512, 14, 14]               0\n",
            "           Conv2d-29           [1, 512, 14, 14]       2,359,808\n",
            "             ReLU-30           [1, 512, 14, 14]               0\n",
            "        MaxPool2d-31             [1, 512, 7, 7]               0\n",
            "AdaptiveAvgPool2d-32             [1, 512, 7, 7]               0\n",
            "           Linear-33                  [1, 4096]     102,764,544\n",
            "             ReLU-34                  [1, 4096]               0\n",
            "          Dropout-35                  [1, 4096]               0\n",
            "           Linear-36                  [1, 4096]      16,781,312\n",
            "             ReLU-37                  [1, 4096]               0\n",
            "          Dropout-38                  [1, 4096]               0\n",
            "           Linear-39                   [1, 256]       1,048,832\n",
            "             ReLU-40                   [1, 256]               0\n",
            "          Dropout-41                   [1, 256]               0\n",
            "           Linear-42                     [1, 3]             771\n",
            "       LogSoftmax-43                     [1, 3]               0\n",
            "================================================================\n",
            "Total params: 135,310,147\n",
            "Trainable params: 1,049,603\n",
            "Non-trainable params: 134,260,544\n",
            "----------------------------------------------------------------\n",
            "Input size (MB): 0.57\n",
            "Forward/backward pass size (MB): 218.78\n",
            "Params size (MB): 516.17\n",
            "Estimated Total Size (MB): 735.52\n",
            "----------------------------------------------------------------\n"
          ],
          "name": "stdout"
        }
      ]
    },
    {
      "cell_type": "code",
      "metadata": {
        "id": "lufryrvY-KLH",
        "colab_type": "code",
        "colab": {}
      },
      "source": [
        "import torch.optim as optim\n",
        "criterion = nn.NLLLoss()\n",
        "optimizer = optim.Adam(model.parameters())"
      ],
      "execution_count": 0,
      "outputs": []
    },
    {
      "cell_type": "code",
      "metadata": {
        "id": "c4wqGHpZ-4Ue",
        "colab_type": "code",
        "outputId": "24594f67-09a6-480a-f6dd-530b08c59a51",
        "colab": {
          "base_uri": "https://localhost:8080/",
          "height": 1000
        }
      },
      "source": [
        "import cv2\n",
        "from time import time\n",
        "import torch\n",
        "import torch.optim as optim\n",
        "from sklearn.model_selection  import train_test_split \n",
        "import torch.optim.lr_scheduler as Scheduler\n",
        "import matplotlib.pyplot as plt\n",
        "\n",
        "# ReduceLROnPlateau scheduler with validation loss monitoring is used for hot restart during training\n",
        "\n",
        "scheduler=Scheduler.ReduceLROnPlateau(optimizer,'min')\n",
        "time0 = time()\n",
        "epochs = 30\n",
        "\n",
        "previous_running_loss_val=0\n",
        "running_loss_val = 0\n",
        "max_patience_count=7\n",
        "train_loss=[]\n",
        "validation_loss=[]\n",
        "validation_accuracy=[]\n",
        "for e in range(epochs):\n",
        "    previous_running_loss_val=running_loss_val\n",
        "    running_loss_train = 0\n",
        "    running_loss_val = 0\n",
        "    pos_count=0\n",
        "# Random Split of training and validation set from the training data with validation size 15% of training.\n",
        "\n",
        "    \n",
        "    train_label, val_label = train_test_split(label_train, test_size=0.15,random_state=1)\n",
        "\n",
        "    for i in train_label.index:\n",
        "        labels=torch.from_numpy(np.expand_dims(np.array(train_label.loc[i][['Non-Pneumonia','Other Pneumonia','COVID-19']]).astype(np.int),0))\n",
        "        img_name=train_label.loc[i]['Image Name']\n",
        "        source=train_label.loc[i]['Data Source'].replace('-','')\n",
        "        indx=data.index(\"/\".join([source,img_name]))\n",
        "        img=cv2.imread(data[indx])\n",
        "        img=cv2.resize(img,(224,224),interpolation=cv2.INTER_NEAREST)\n",
        "        img=np.transpose(img)/255.0\n",
        "        images=torch.from_numpy(np.expand_dims(img.astype('float32'),0))\n",
        "        optimizer.zero_grad()\n",
        "        \n",
        "        output = model(images)\n",
        "        loss =criterion(output, labels.argmax(dim=1))\n",
        "        \n",
        "        \n",
        "        loss.backward()\n",
        "        \n",
        "        \n",
        "        optimizer.step()\n",
        "        \n",
        "        running_loss_train += loss.item()\n",
        "\n",
        "    for i in val_label.index:\n",
        "        labels=torch.from_numpy(np.expand_dims(np.array(val_label.loc[i][['Non-Pneumonia','Other Pneumonia','COVID-19']]).astype(np.int),0))\n",
        "        img_name=val_label.loc[i]['Image Name']\n",
        "        source=val_label.loc[i]['Data Source'].replace('-','')\n",
        "        indx=data.index(\"/\".join([source,img_name]))\n",
        "        img=cv2.imread(data[indx])\n",
        "        img=cv2.resize(img,(224,224),interpolation=cv2.INTER_NEAREST)\n",
        "        img=np.transpose(img)/255.0\n",
        "        images=torch.from_numpy(np.expand_dims(img.astype('float32'),0))\n",
        "\n",
        "        \n",
        "        \n",
        "        output = model(images)\n",
        "        \n",
        "        loss =criterion(output, labels.argmax(dim=1))\n",
        "        MAX=np.argmax(output.detach().numpy())\n",
        "        if int(np.argmax(labels))==MAX:\n",
        "          pos_count +=1\n",
        "        \n",
        "        \n",
        "        running_loss_val += loss.item()\n",
        "\n",
        "    else:\n",
        "# Scheduler step\n",
        "        scheduler.step(previous_running_loss_val)\n",
        "\n",
        "        train_loss.append(running_loss_train/len(train_label))\n",
        "        validation_loss.append(running_loss_val/len(val_label))\n",
        "        validation_accuracy.append(pos_count/len(val_label))\n",
        "        print(\"Epoch {} - Training loss: {}, Validation loss: {}, validation accuracy: {}\".format(e, running_loss_train/len(train_label),running_loss_val/len(val_label),pos_count/len(val_label)))\n",
        "\n",
        "#Plotting Training and validation loss\n",
        "x1 = range(epochs)\n",
        "y1 = train_loss\n",
        "plt.plot(x1, y1, label = \"Training loss\")\n",
        "x2 = range(epochs)\n",
        "y2 = validation_loss\n",
        "plt.plot(x2, y2, label = \"Validation loss\")\n",
        "plt.xlabel('epochs')\n",
        "plt.ylabel('loss')\n",
        "plt.title('Training vs. Validation Loss')\n",
        "plt.legend()\n",
        "plt.show()\n",
        "x1=range(epochs)\n",
        "y1=validation_accuracy\n",
        "plt.plot(x1,y1,label='validation accuracy')\n",
        "plt.xlabel('epochs')\n",
        "plt.ylabel('accuracy')\n",
        "plt.title('Validation accuracy')\n",
        "plt.legend()\n",
        "plt.show()\n",
        "print(\"\\nTraining Time (in minutes) =\",(time()-time0)/60)\n"
      ],
      "execution_count": 0,
      "outputs": [
        {
          "output_type": "stream",
          "text": [
            "Epoch 0 - Training loss: 0.6422485480754895, Validation loss: 0.3762445672369557, validation accuracy: 0.8090909090909091\n",
            "Epoch 1 - Training loss: 0.42460843943407545, Validation loss: 0.30111689886764037, validation accuracy: 0.8909090909090909\n",
            "Epoch 2 - Training loss: 0.34761605924145034, Validation loss: 0.2999498074342235, validation accuracy: 0.8454545454545455\n",
            "Epoch 3 - Training loss: 0.3202098380988974, Validation loss: 0.27497956778287946, validation accuracy: 0.8636363636363636\n",
            "Epoch 4 - Training loss: 0.306457814899253, Validation loss: 0.27998436268705096, validation accuracy: 0.8727272727272727\n",
            "Epoch 5 - Training loss: 0.2997619844402321, Validation loss: 0.22096010584129638, validation accuracy: 0.9181818181818182\n",
            "Epoch 6 - Training loss: 0.2663901454168446, Validation loss: 0.2670119025223596, validation accuracy: 0.8727272727272727\n",
            "Epoch 7 - Training loss: 0.2375673808647614, Validation loss: 0.3777034462563111, validation accuracy: 0.8727272727272727\n",
            "Epoch 8 - Training loss: 0.24949908345309718, Validation loss: 0.2357094302134537, validation accuracy: 0.8909090909090909\n",
            "Epoch 9 - Training loss: 0.20581823389806464, Validation loss: 0.3439322484171183, validation accuracy: 0.9\n",
            "Epoch 10 - Training loss: 0.18159428869518704, Validation loss: 0.451417881337507, validation accuracy: 0.8363636363636363\n",
            "Epoch 11 - Training loss: 0.18996643509441827, Validation loss: 0.3218035583164144, validation accuracy: 0.8909090909090909\n",
            "Epoch 12 - Training loss: 0.10630246001465815, Validation loss: 0.22169711769475037, validation accuracy: 0.9363636363636364\n",
            "Epoch 13 - Training loss: 0.1490915845625313, Validation loss: 0.1274560950629434, validation accuracy: 0.9545454545454546\n",
            "Epoch 14 - Training loss: 0.12361639233801189, Validation loss: 0.3727193941072362, validation accuracy: 0.9454545454545454\n",
            "Epoch 15 - Training loss: 0.11144711279530155, Validation loss: 0.31979838494576696, validation accuracy: 0.9\n",
            "Epoch 16 - Training loss: 0.10142103078720399, Validation loss: 0.3304450351907006, validation accuracy: 0.9181818181818182\n",
            "Epoch 17 - Training loss: 0.13777042786837426, Validation loss: 0.11233803837299926, validation accuracy: 0.9545454545454546\n",
            "Epoch 18 - Training loss: 0.11793331782787417, Validation loss: 0.08915570256734853, validation accuracy: 0.9636363636363636\n",
            "Epoch 19 - Training loss: 0.07769065628440165, Validation loss: 0.294011474252792, validation accuracy: 0.9090909090909091\n",
            "Epoch 20 - Training loss: 0.10371982343612439, Validation loss: 0.2333372614301727, validation accuracy: 0.9090909090909091\n",
            "Epoch 21 - Training loss: 0.10640487287480066, Validation loss: 0.17788821790479792, validation accuracy: 0.9090909090909091\n",
            "Epoch 22 - Training loss: 0.09634986963573557, Validation loss: 0.23402842306859778, validation accuracy: 0.9181818181818182\n",
            "Epoch 23 - Training loss: 0.07712687623235452, Validation loss: 0.27196535759192914, validation accuracy: 0.9545454545454546\n",
            "Epoch 24 - Training loss: 0.07463977060818991, Validation loss: 0.43370069503239655, validation accuracy: 0.8909090909090909\n",
            "Epoch 25 - Training loss: 0.1006534952086091, Validation loss: 0.13045666124420152, validation accuracy: 0.9545454545454546\n",
            "Epoch 26 - Training loss: 0.10063427832886684, Validation loss: 0.21312385631349706, validation accuracy: 0.9\n",
            "Epoch 27 - Training loss: 0.07132895384632211, Validation loss: 0.24483843160037744, validation accuracy: 0.9181818181818182\n",
            "Epoch 28 - Training loss: 0.08403994325669505, Validation loss: 0.37341517552950504, validation accuracy: 0.9272727272727272\n",
            "Epoch 29 - Training loss: 0.08792874233852574, Validation loss: 0.17558773020399737, validation accuracy: 0.9181818181818182\n"
          ],
          "name": "stdout"
        },
        {
          "output_type": "display_data",
          "data": {
            "image/png": "[encoded data removed]",
            "text/plain": [
              "<Figure size 432x288 with 1 Axes>"
            ]
          },
          "metadata": {
            "tags": [],
            "needs_background": "light"
          }
        },
        {
          "output_type": "display_data",
          "data": {
            "image/png": "[encoded data removed]",
            "text/plain": [
              "<Figure size 432x288 with 1 Axes>"
            ]
          },
          "metadata": {
            "tags": [],
            "needs_background": "light"
          }
        },
        {
          "output_type": "stream",
          "text": [
            "\n",
            "Training Time (in minutes) = 235.94575689236322\n"
          ],
          "name": "stdout"
        }
      ]
    },
    {
      "cell_type": "code",
      "metadata": {
        "id": "KwnA6AiJ2Qh8",
        "colab_type": "code",
        "colab": {}
      },
      "source": [
        "# Saving the model state\n",
        "torch.save(model.state_dict(),'Trainedmodel_state_dict.tar')"
      ],
      "execution_count": 0,
      "outputs": []
    },
    {
      "cell_type": "code",
      "metadata": {
        "id": "ObfZiXF9cwMG",
        "colab_type": "code",
        "outputId": "b7d9c81b-9ed2-4693-b6f5-834ca0a9580b",
        "colab": {
          "base_uri": "https://localhost:8080/",
          "height": 34
        }
      },
      "source": [
        "# Testing model accuracy\n",
        "pos_count=0\n",
        "for i in label_test.index:\n",
        "    labels=torch.from_numpy(np.expand_dims(np.array(label_test.loc[i][['Non-Pneumonia','Other Pneumonia','COVID-19']]).astype(np.int),0))\n",
        "    img_name=label_test.loc[i]['Image Name']\n",
        "    source=label_test.loc[i]['Data Source'].replace('-','')\n",
        "    indx=data.index(\"/\".join([source,img_name]))\n",
        "    img=cv2.imread(data[indx])\n",
        "    img=cv2.resize(img,(224,224),interpolation=cv2.INTER_NEAREST)\n",
        "    img=np.transpose(img)/255.0\n",
        "    images=torch.from_numpy(np.expand_dims(img.astype('float32'),0))\n",
        "\n",
        "    \n",
        "    \n",
        "    output = model(images)\n",
        "    \n",
        "    MAX=np.argmax(output.detach().numpy())\n",
        "    if int(np.argmax(labels))==MAX:\n",
        "      pos_count +=1\n",
        "    \n",
        "print('Testing accuracy is: {}'.format(pos_count/len(label_test)*100))\n",
        "  "
      ],
      "execution_count": 0,
      "outputs": [
        {
          "output_type": "stream",
          "text": [
            "Testing accuracy is: 71.66666666666667\n"
          ],
          "name": "stdout"
        }
      ]
    }
  ]
}